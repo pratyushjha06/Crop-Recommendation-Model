{
 "cells": [
  {
   "cell_type": "markdown",
   "id": "2bc57112",
   "metadata": {},
   "source": [
    "# Crops Recommendation Model"
   ]
  },
  {
   "cell_type": "code",
   "execution_count": 1,
   "id": "7a56acd2",
   "metadata": {},
   "outputs": [],
   "source": [
    "import pandas as pd"
   ]
  },
  {
   "cell_type": "code",
   "execution_count": 2,
   "id": "0a29d0bb",
   "metadata": {},
   "outputs": [],
   "source": [
    "crm= pd.read_csv(\"Crop_recommendation.csv\")"
   ]
  },
  {
   "cell_type": "code",
   "execution_count": 3,
   "id": "074ccb9d",
   "metadata": {},
   "outputs": [
    {
     "name": "stdout",
     "output_type": "stream",
     "text": [
      "      Nitrogen  Phosphorus  Potassium  temperature   humidity        ph  \\\n",
      "0           90          42         43    20.879744  82.002744  6.502985   \n",
      "1           85          58         41    21.770462  80.319644  7.038096   \n",
      "2           60          55         44    23.004459  82.320763  7.840207   \n",
      "3           74          35         40    26.491096  80.158363  6.980401   \n",
      "4           78          42         42    20.130175  81.604873  7.628473   \n",
      "...        ...         ...        ...          ...        ...       ...   \n",
      "2195       107          34         32    26.774637  66.413269  6.780064   \n",
      "2196        99          15         27    27.417112  56.636362  6.086922   \n",
      "2197       118          33         30    24.131797  67.225123  6.362608   \n",
      "2198       117          32         34    26.272418  52.127394  6.758793   \n",
      "2199       104          18         30    23.603016  60.396475  6.779833   \n",
      "\n",
      "        rainfall   Crops  \n",
      "0     202.935536    rice  \n",
      "1     226.655537    rice  \n",
      "2     263.964248    rice  \n",
      "3     242.864034    rice  \n",
      "4     262.717340    rice  \n",
      "...          ...     ...  \n",
      "2195  177.774507  coffee  \n",
      "2196  127.924610  coffee  \n",
      "2197  173.322839  coffee  \n",
      "2198  127.175293  coffee  \n",
      "2199  140.937041  coffee  \n",
      "\n",
      "[2200 rows x 8 columns]\n"
     ]
    }
   ],
   "source": [
    "print (crm.head(2200))"
   ]
  },
  {
   "cell_type": "code",
   "execution_count": 4,
   "id": "00d8813b",
   "metadata": {},
   "outputs": [
    {
     "data": {
      "text/plain": [
       "Nitrogen         int64\n",
       "Phosphorus       int64\n",
       "Potassium        int64\n",
       "temperature    float64\n",
       "humidity       float64\n",
       "ph             float64\n",
       "rainfall       float64\n",
       "Crops           object\n",
       "dtype: object"
      ]
     },
     "execution_count": 4,
     "metadata": {},
     "output_type": "execute_result"
    }
   ],
   "source": [
    "crm.dtypes"
   ]
  },
  {
   "cell_type": "code",
   "execution_count": 5,
   "id": "8f875010",
   "metadata": {},
   "outputs": [],
   "source": [
    "import matplotlib.pyplot as plt\n",
    "import numpy as np"
   ]
  },
  {
   "cell_type": "markdown",
   "id": "c589b845",
   "metadata": {},
   "source": [
    "# Boxplot"
   ]
  },
  {
   "cell_type": "code",
   "execution_count": 6,
   "id": "d9cc8720",
   "metadata": {},
   "outputs": [],
   "source": [
    "plt.boxplot(crm['Nitrogen'],showfliers=True,labels=['Nitrogen']);"
   ]
  },
  {
   "cell_type": "code",
   "execution_count": 7,
   "id": "a74f6132",
   "metadata": {},
   "outputs": [],
   "source": [
    "plt.boxplot(crm['Phosphorus'],showfliers=True,labels=['Phosphorus']);"
   ]
  },
  {
   "cell_type": "code",
   "execution_count": 8,
   "id": "d7fc0e2c",
   "metadata": {},
   "outputs": [],
   "source": [
    "plt.boxplot(crm['Potassium'],showfliers=True,labels=['Potassium']);"
   ]
  },
  {
   "cell_type": "code",
   "execution_count": 9,
   "id": "2be83968",
   "metadata": {},
   "outputs": [],
   "source": [
    "plt.boxplot(crm['temperature'],showfliers=True,labels=['Temperature']);"
   ]
  },
  {
   "cell_type": "code",
   "execution_count": 10,
   "id": "d7a4c314",
   "metadata": {},
   "outputs": [],
   "source": [
    "plt.boxplot(crm['humidity'],showfliers=True,labels=['Humidity']);"
   ]
  },
  {
   "cell_type": "code",
   "execution_count": 11,
   "id": "221b7d6e",
   "metadata": {},
   "outputs": [],
   "source": [
    "plt.boxplot(crm['ph'],showfliers=True,labels=['PH Value of soil']);"
   ]
  },
  {
   "cell_type": "code",
   "execution_count": 12,
   "id": "112bce1a",
   "metadata": {},
   "outputs": [],
   "source": [
    "plt.boxplot(crm['rainfall'],showfliers=True,labels=['Rainfall']);"
   ]
  },
  {
   "cell_type": "markdown",
   "id": "3d47aef0",
   "metadata": {},
   "source": [
    "# Historam"
   ]
  },
  {
   "cell_type": "code",
   "execution_count": 13,
   "id": "d140e0e9",
   "metadata": {},
   "outputs": [],
   "source": [
    "plt.hist(crm['Nitrogen'],bins=50,)\n",
    "plt.title('Nitrogen');"
   ]
  },
  {
   "cell_type": "code",
   "execution_count": 14,
   "id": "37b8aad8",
   "metadata": {},
   "outputs": [],
   "source": [
    "plt.hist(crm['Potassium'],bins=50,)\n",
    "plt.title('Potassium');"
   ]
  },
  {
   "cell_type": "code",
   "execution_count": 15,
   "id": "c4e39986",
   "metadata": {},
   "outputs": [],
   "source": [
    "plt.hist(crm['Phosphorus'],bins=50,)\n",
    "plt.title('Phosphorus');"
   ]
  },
  {
   "cell_type": "code",
   "execution_count": 16,
   "id": "b58235a8",
   "metadata": {},
   "outputs": [],
   "source": [
    "plt.hist(crm['temperature'],bins=50,)\n",
    "plt.title('Temperature');"
   ]
  },
  {
   "cell_type": "code",
   "execution_count": 17,
   "id": "265c9cb6",
   "metadata": {},
   "outputs": [],
   "source": [
    "plt.hist(crm['humidity'],bins=50,)\n",
    "plt.title('Humidity');"
   ]
  },
  {
   "cell_type": "code",
   "execution_count": 18,
   "id": "cca2ea57",
   "metadata": {},
   "outputs": [],
   "source": [
    "plt.hist(crm['ph'],bins=50,)\n",
    "plt.title('PH Value');"
   ]
  },
  {
   "cell_type": "code",
   "execution_count": 19,
   "id": "9177a781",
   "metadata": {},
   "outputs": [],
   "source": [
    "plt.hist(crm['rainfall'],bins=50,)\n",
    "plt.title('Rainfall');"
   ]
  },
  {
   "cell_type": "markdown",
   "id": "c29a9d05",
   "metadata": {},
   "source": [
    "# Modeling"
   ]
  },
  {
   "cell_type": "code",
   "execution_count": 20,
   "id": "aa8fa8ac",
   "metadata": {},
   "outputs": [],
   "source": [
    "from sklearn.preprocessing import StandardScaler\n",
    "from sklearn.model_selection import train_test_split"
   ]
  },
  {
   "cell_type": "code",
   "execution_count": 21,
   "id": "66b4db96",
   "metadata": {},
   "outputs": [],
   "source": [
    "x = crm[['Nitrogen', 'Phosphorus', 'Potassium', 'temperature', 'humidity', 'ph', 'rainfall']]\n",
    "y = crm['Crops']"
   ]
  },
  {
   "cell_type": "code",
   "execution_count": 22,
   "id": "ab57bc4c",
   "metadata": {},
   "outputs": [],
   "source": [
    "x_train, x_test, y_train, y_test = train_test_split(x,y,test_size=0.4,random_state=10)"
   ]
  },
  {
   "cell_type": "code",
   "execution_count": 23,
   "id": "a402f7ae",
   "metadata": {},
   "outputs": [
    {
     "name": "stdout",
     "output_type": "stream",
     "text": [
      "Number of rows in x_train: 1320\n",
      "Number of rows in x_test: 880\n",
      "Number of rows in y_train: 1320\n",
      "Number of rows in y_test: 880\n"
     ]
    }
   ],
   "source": [
    "print(\"Number of rows in x_train:\", x_train.shape[0])\n",
    "print(\"Number of rows in x_test:\", x_test.shape[0])\n",
    "print(\"Number of rows in y_train:\", y_train.shape[0])\n",
    "print(\"Number of rows in y_test:\", y_test.shape[0])"
   ]
  },
  {
   "cell_type": "code",
   "execution_count": 24,
   "id": "26e706aa",
   "metadata": {},
   "outputs": [],
   "source": [
    "scaler = StandardScaler()\n",
    "x_train_scale = scaler.fit_transform(x_train)\n",
    "x_test_scale = scaler.transform(x_test)"
   ]
  },
  {
   "cell_type": "markdown",
   "id": "e8b8e157",
   "metadata": {},
   "source": [
    "Decission Tree"
   ]
  },
  {
   "cell_type": "code",
   "execution_count": 25,
   "id": "ea6de82e",
   "metadata": {},
   "outputs": [],
   "source": [
    "from sklearn import tree"
   ]
  },
  {
   "cell_type": "code",
   "execution_count": 26,
   "id": "8631757d",
   "metadata": {},
   "outputs": [
    {
     "name": "stdout",
     "output_type": "stream",
     "text": [
      "   Nitrogen  Phosphorus  Potassium  temperature   humidity        ph  \\\n",
      "0        90          42         43    20.879744  82.002744  6.502985   \n",
      "1        85          58         41    21.770462  80.319644  7.038096   \n",
      "2        60          55         44    23.004459  82.320763  7.840207   \n",
      "3        74          35         40    26.491096  80.158363  6.980401   \n",
      "4        78          42         42    20.130175  81.604873  7.628473   \n",
      "\n",
      "     rainfall  \n",
      "0  202.935536  \n",
      "1  226.655537  \n",
      "2  263.964248  \n",
      "3  242.864034  \n",
      "4  262.717340  \n",
      "0    rice\n",
      "1    rice\n",
      "2    rice\n",
      "3    rice\n",
      "4    rice\n",
      "Name: Crops, dtype: object\n"
     ]
    }
   ],
   "source": [
    "dt = tree.DecisionTreeClassifier()\n",
    "\n",
    "\n",
    "print(x.head())\n",
    "print(y.head())\n",
    "\n",
    "\n",
    "dt = dt.fit(x,y)\n"
   ]
  },
  {
   "cell_type": "code",
   "execution_count": 27,
   "id": "56514e10",
   "metadata": {},
   "outputs": [
    {
     "name": "stdout",
     "output_type": "stream",
     "text": [
      "['mothbeans']\n"
     ]
    }
   ],
   "source": [
    "#test\n",
    "test = pd.DataFrame()\n",
    "test['Nitrogen'] = [30]\n",
    "test['Phosphorus'] = [50]\n",
    "test['Potassium'] = [85]\n",
    "test['temperature'] = [40]\n",
    "test['humidity'] = [50]\n",
    "test['ph'] = [6]\n",
    "test['rainfall'] = [50]\n",
    "predict_crop = dt.predict(test)\n",
    "\n",
    "# predict_crop\n",
    "print(predict_crop)"
   ]
  },
  {
   "cell_type": "markdown",
   "id": "25747771",
   "metadata": {},
   "source": [
    "# Crop recommender "
   ]
  },
  {
   "cell_type": "code",
   "execution_count": null,
   "id": "595908f9",
   "metadata": {},
   "outputs": [],
   "source": [
    "Nitrogen = float(input(\"Enter the Nitrogen level:\"))\n",
    "Phosphorus=float(input(\"Enter the Phosphorus level:\"))\n",
    "Potassium=float(input(\"Enter the Potassium level:\"))\n",
    "rainfall=float(input(\"Enter the Rainfall level:\"))\n",
    "temperature=float(input(\"Enter the Temperature level:\"))\n",
    "ph=float(input(\"Enter the PH Value level:\"))\n",
    "humidity=float(input(\"Enter the Humidity level:\"))\n",
    "print(\"The recommended crop is:\")\n",
    "\n",
    "recommend = pd.DataFrame()\n",
    "recommend['Nitrogen'] = [Nitrogen]  #Nitrogen level present in the soil\n",
    "recommend['Phosphorus'] = [Phosphorus]  #Phosphorous level present in the soil\n",
    "recommend['Potassium'] = [Potassium]  #Potassium level present in the soil  \n",
    "recommend['temperature'] = [temperature]  #Temperature in your area\n",
    "recommend['humidity'] = [humidity]  #Humidity level\n",
    "recommend['ph'] = [ph]  # PH Value of the soil\n",
    "recommend['rainfall'] = [rainfall]  #Rainfall amount in your area \n",
    "recommend_crop = dt.predict(recommend)\n",
    "\n",
    "print(recommend_crop)"
   ]
  },
  {
   "cell_type": "markdown",
   "id": "f5b87534",
   "metadata": {},
   "source": [
    "This model will recommend you the crop you should grow .  "
   ]
  }
 ],
 "metadata": {
  "kernelspec": {
   "display_name": "Python 3",
   "language": "python",
   "name": "python3"
  },
  "language_info": {
   "codemirror_mode": {
    "name": "ipython",
    "version": 3
   },
   "file_extension": ".py",
   "mimetype": "text/x-python",
   "name": "python",
   "nbconvert_exporter": "python",
   "pygments_lexer": "ipython3",
   "version": "3.8.8"
  }
 },
 "nbformat": 4,
 "nbformat_minor": 5
}
